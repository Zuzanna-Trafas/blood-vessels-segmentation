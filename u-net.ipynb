{
 "cells": [
  {
   "cell_type": "markdown",
   "metadata": {},
   "source": [
    "# Blood vessel detection using UNET\n",
    "\n",
    "First we divide images into adequate folders, segmenting train and test images to 128x128 windows:"
   ]
  },
  {
   "cell_type": "code",
   "execution_count": 2,
   "metadata": {},
   "outputs": [],
   "source": [
    "from skimage.util import view_as_windows\n",
    "from random import sample\n",
    "import matplotlib.pyplot as plt\n",
    "from sklearn.metrics import classification_report\n",
    "import numpy as np\n",
    "import cv2\n",
    "import shutil \n",
    "import os\n",
    "import glob\n",
    "\n",
    "TRAIN_IMG_DIR = 'data/train_images'\n",
    "VAL_IMG_DIR = 'data/val_images'\n",
    "TEST_IMG_DIR = 'data/test_images'\n",
    "\n",
    "TRAIN_MASK_DIR = 'data/train_masks'\n",
    "VAL_MASK_DIR = 'data/val_masks'\n",
    "TEST_MASK_DIR = 'data/test_masks'\n",
    "\n",
    "IMAGE_SIZE =  64\n",
    "\n",
    "def create_folders():\n",
    "    if not os.path.exists(TRAIN_IMG_DIR):\n",
    "        os.makedirs(TRAIN_IMG_DIR)\n",
    "\n",
    "    if not os.path.exists(VAL_IMG_DIR):\n",
    "        os.makedirs(VAL_IMG_DIR)\n",
    "\n",
    "    if not os.path.exists(TEST_IMG_DIR):\n",
    "        os.makedirs(TEST_IMG_DIR)\n",
    "\n",
    "    if not os.path.exists(TRAIN_MASK_DIR):\n",
    "        os.makedirs(TRAIN_MASK_DIR)\n",
    "\n",
    "    if not os.path.exists(VAL_MASK_DIR):\n",
    "        os.makedirs(VAL_MASK_DIR)\n",
    "\n",
    "    if not os.path.exists(TEST_MASK_DIR):\n",
    "        os.makedirs(TEST_MASK_DIR)\n",
    "        \n",
    "def create_dataset(num_samples):\n",
    "    create_folders()\n",
    "    \n",
    "    img_filenames = glob.glob(\"data/images/*\")\n",
    "    img_filenames.sort()\n",
    "    images = [cv2.imread(img) for img in img_filenames]\n",
    "\n",
    "    mask_filenames = glob.glob(\"data/manual1/*\")\n",
    "    mask_filenames.sort()\n",
    "    masks = [cv2.imread(img, 0) for img in mask_filenames]\n",
    "\n",
    "    # copy test images to test folder\n",
    "    for i, (img_path, mask_path) in enumerate(zip(img_filenames[:5], mask_filenames[:5])):\n",
    "        shutil.copy(img_path, TEST_IMG_DIR + \"/\" + str(i) + \".png\")\n",
    "        shutil.copy(mask_path, TEST_MASK_DIR + \"/\" + str(i) + \".png\")\n",
    "\n",
    "    # create windows for train and val images\n",
    "    all_windows = []\n",
    "    all_mask_windows = []\n",
    "    for img, mask in zip(images[5:], masks[5:]):\n",
    "        windows = view_as_windows(img, (IMAGE_SIZE, IMAGE_SIZE, 3), step=IMAGE_SIZE)\n",
    "        width, height, _, _, _, _ = windows.shape\n",
    "        windows = windows.flatten().reshape(width*height, IMAGE_SIZE, IMAGE_SIZE, 3)\n",
    "        all_windows.extend(windows)\n",
    "\n",
    "        mask_windows = view_as_windows(mask, (IMAGE_SIZE, IMAGE_SIZE), step=IMAGE_SIZE)\n",
    "        mask_windows = mask_windows.flatten().reshape(width*height, IMAGE_SIZE, IMAGE_SIZE)\n",
    "        all_mask_windows.extend(mask_windows)\n",
    "    \n",
    "    # sample created data\n",
    "    data = list(zip(all_windows, all_mask_windows))\n",
    "    after_sampling = sample(data, num_samples)\n",
    "    all_windows, all_mask_windows = zip(*after_sampling)\n",
    "\n",
    "    for i, (window, mask_window) in enumerate(zip(all_windows, all_mask_windows)):\n",
    "        if i <= len(all_windows) * 0.8: # add to train set\n",
    "            cv2.imwrite(TRAIN_IMG_DIR + \"/\" + str(i) + \".png\", window)\n",
    "            cv2.imwrite(TRAIN_MASK_DIR + \"/\" + str(i) + \".tiff\", mask_window)\n",
    "        else: # add to val set\n",
    "            cv2.imwrite(VAL_IMG_DIR + \"/\" + str(i) + \".png\", window)\n",
    "            cv2.imwrite(VAL_MASK_DIR + \"/\" + str(i) + \".tiff\", mask_window)\n",
    "            \n",
    "#create_dataset(500)"
   ]
  },
  {
   "cell_type": "markdown",
   "metadata": {},
   "source": [
    "Next we define UNET architecture:"
   ]
  },
  {
   "cell_type": "code",
   "execution_count": 3,
   "metadata": {},
   "outputs": [],
   "source": [
    "import torch\n",
    "import torch.nn as nn\n",
    "import torchvision.transforms.functional as TF\n",
    "\n",
    "class DoubleConv(nn.Module):\n",
    "    def __init__(self, in_channels, out_channels):\n",
    "        super(DoubleConv, self).__init__()\n",
    "        self.conv = nn.Sequential(\n",
    "            nn.Conv2d(in_channels, out_channels, 3, 1, 1, bias=False),\n",
    "            nn.BatchNorm2d(out_channels),\n",
    "            nn.ReLU(inplace=True),\n",
    "            nn.Conv2d(out_channels, out_channels, 3, 1, 1, bias=False),\n",
    "            nn.BatchNorm2d(out_channels),\n",
    "            nn.ReLU(inplace=True),\n",
    "        )\n",
    "\n",
    "    def forward(self, x):\n",
    "        return self.conv(x)\n",
    "\n",
    "class UNET(nn.Module):\n",
    "    def __init__(\n",
    "            self, in_channels=3, out_channels=1, features=[64, 128, 256, 512],\n",
    "    ):\n",
    "        super(UNET, self).__init__()\n",
    "        self.ups = nn.ModuleList()\n",
    "        self.downs = nn.ModuleList()\n",
    "        self.pool = nn.MaxPool2d(kernel_size=2, stride=2)\n",
    "\n",
    "        # Down part of UNET\n",
    "        for feature in features:\n",
    "            self.downs.append(DoubleConv(in_channels, feature))\n",
    "            in_channels = feature\n",
    "\n",
    "        # Up part of UNET\n",
    "        for feature in reversed(features):\n",
    "            self.ups.append(\n",
    "                nn.ConvTranspose2d(\n",
    "                    feature*2, feature, kernel_size=2, stride=2,\n",
    "                )\n",
    "            )\n",
    "            self.ups.append(DoubleConv(feature*2, feature))\n",
    "\n",
    "        self.bottleneck = DoubleConv(features[-1], features[-1]*2)\n",
    "        self.final_conv = nn.Conv2d(features[0], out_channels, kernel_size=1)\n",
    "\n",
    "    def forward(self, x):\n",
    "        skip_connections = []\n",
    "\n",
    "        for down in self.downs:\n",
    "            x = down(x)\n",
    "            skip_connections.append(x)\n",
    "            x = self.pool(x)\n",
    "\n",
    "        x = self.bottleneck(x)\n",
    "        skip_connections = skip_connections[::-1]\n",
    "\n",
    "        for idx in range(0, len(self.ups), 2):\n",
    "            x = self.ups[idx](x)\n",
    "            skip_connection = skip_connections[idx//2]\n",
    "\n",
    "            if x.shape != skip_connection.shape:\n",
    "                x = TF.resize(x, size=skip_connection.shape[2:])\n",
    "\n",
    "            concat_skip = torch.cat((skip_connection, x), dim=1)\n",
    "            x = self.ups[idx+1](concat_skip)\n",
    "\n",
    "        return self.final_conv(x)"
   ]
  },
  {
   "cell_type": "markdown",
   "metadata": {},
   "source": [
    "Then we create dataset"
   ]
  },
  {
   "cell_type": "code",
   "execution_count": 4,
   "metadata": {},
   "outputs": [],
   "source": [
    "from torch.utils.data import Dataset\n",
    "\n",
    "class BloodVesselDataset(Dataset):\n",
    "    def __init__(self, image_dir, mask_dir, transform=None):\n",
    "        self.image_dir = image_dir\n",
    "        self.mask_dir = mask_dir\n",
    "        self.transform = transform\n",
    "        self.images = glob.glob(image_dir + \"/*\")\n",
    "        self.images.sort()\n",
    "        self.masks = glob.glob(mask_dir + \"/*\")\n",
    "        self.masks.sort()\n",
    "        \n",
    "    def __len__(self):\n",
    "        return len(self.images)\n",
    "    \n",
    "    def __getitem__(self, index):\n",
    "        img_path = self.images[index]\n",
    "        mask_path = self.masks[index]\n",
    "        image = cv2.imread(img_path)\n",
    "        mask = cv2.imread(mask_path, 0)\n",
    "        mask = mask/255\n",
    "        \n",
    "        if self.transform is not None:\n",
    "            augmentations = self.transform(image=image, mask=mask)\n",
    "            image = augmentations[\"image\"]\n",
    "            mask = augmentations[\"mask\"]\n",
    "        \n",
    "        return image, mask"
   ]
  },
  {
   "cell_type": "code",
   "execution_count": 159,
   "metadata": {
    "id": "OchN0QsWDpgm"
   },
   "outputs": [],
   "source": [
    "import torch\n",
    "import albumentations as A\n",
    "from albumentations.pytorch import ToTensorV2\n",
    "from tqdm import tqdm\n",
    "import torch.optim as optim\n",
    "\n",
    "# HYPERPARAMETERS\n",
    "LEARNING_RATE = 1e-4\n",
    "DEVICE = \"cuda\" if torch.cuda.is_available() else \"cpu\"\n",
    "BATCH_SIZE = 16\n",
    "NUM_EPOCHS = 20\n",
    "NUM_WORKERS = 0\n",
    "PIN_MEMORY = True\n",
    "LOAD_MODEL = True\n",
    "\n",
    "\n",
    "def train(loader, model, optimizer, loss_fn, scaler):\n",
    "    loop = tqdm(loader)\n",
    "    \n",
    "    for batch_idx, (data, targets) in enumerate(loop):\n",
    "        data = data.float().to(device=DEVICE)\n",
    "        targets = targets.float().unsqueeze(1).to(device=DEVICE)\n",
    "        \n",
    "        # forward\n",
    "        with torch.cuda.amp.autocast():\n",
    "            predictions = model(data)\n",
    "            loss = loss_fn(predictions, targets)\n",
    "            \n",
    "        # backward\n",
    "        optimizer.zero_grad()\n",
    "        scaler.scale(loss).backward()\n",
    "        scaler.step(optimizer)\n",
    "        scaler.update()\n",
    "        \n",
    "        # update tqdm loop\n",
    "        loop.set_postfix(loss=loss.item())\n",
    "\n",
    "        \n",
    "train_transform = A.Compose(\n",
    "[\n",
    "    A.Resize(height=IMAGE_SIZE, width=IMAGE_SIZE),\n",
    "#     A.Rotate(limit=35, p=1.0),\n",
    "#     A.HorizontalFlip(p=0.5),\n",
    "#     A.VerticalFlip(p=0.1),\n",
    "    ToTensorV2()\n",
    "])\n",
    "\n",
    "val_transform = A.Compose(\n",
    "[\n",
    "    A.Resize(height=IMAGE_SIZE, width=IMAGE_SIZE),\n",
    "    ToTensorV2()\n",
    "])\n"
   ]
  },
  {
   "cell_type": "code",
   "execution_count": 165,
   "metadata": {},
   "outputs": [],
   "source": [
    "import torchvision\n",
    "from torch.utils.data import DataLoader\n",
    "\n",
    "def save_checkpoint(state, filename):\n",
    "    print(\"===>Saving checkpoint\")\n",
    "    torch.save(state, filename)\n",
    "    \n",
    "def load_checkpoint(checkpoint, model):\n",
    "    print(\"===>Loading checkpoint\")\n",
    "    model.load_state_dict(checkpoint[\"state_dict\"])\n",
    "    \n",
    "def get_loaders(\n",
    "        train_dir,\n",
    "        train_mask_dir,\n",
    "        val_dir,\n",
    "        val_mask_dir,\n",
    "        batch_size,\n",
    "        train_transform,\n",
    "        val_transform,\n",
    "        num_workers=4,\n",
    "        pin_memory=True):\n",
    "    \n",
    "    train_ds = BloodVesselDataset(\n",
    "        image_dir=train_dir,\n",
    "        mask_dir=train_mask_dir,\n",
    "        transform=train_transform)\n",
    "    \n",
    "    train_loader = DataLoader(\n",
    "        train_ds,\n",
    "        batch_size=batch_size,\n",
    "        num_workers=num_workers,\n",
    "        pin_memory=pin_memory,\n",
    "        shuffle=True)\n",
    "    \n",
    "    val_ds = BloodVesselDataset(\n",
    "        image_dir=val_dir,\n",
    "        mask_dir=val_mask_dir,\n",
    "        transform=val_transform)\n",
    "    \n",
    "    val_loader = DataLoader(\n",
    "        val_ds,\n",
    "        batch_size=batch_size,\n",
    "        num_workers=num_workers,\n",
    "        pin_memory=pin_memory,\n",
    "        shuffle=False)\n",
    "    \n",
    "    return train_loader, val_loader\n",
    "\n",
    "def check_accuracy(loader, model, device=\"cuda\"):\n",
    "    num_correct = 0\n",
    "    num_pixels = 0\n",
    "    dice_score = 0\n",
    "    model.eval()\n",
    "\n",
    "    with torch.no_grad():\n",
    "        for x, y in loader:\n",
    "            x = x.float().to(device)\n",
    "            y = y.float().to(device).unsqueeze(1)\n",
    "            preds = torch.sigmoid(model(x))\n",
    "            preds = (preds > 0.5).float()\n",
    "            num_correct += (preds == y).sum()\n",
    "            num_pixels += torch.numel(preds)\n",
    "            dice_score += (2 * (preds * y).sum()) / (\n",
    "                (preds + y).sum() + 1e-8\n",
    "            )\n",
    "\n",
    "    print(\n",
    "        f\"Got {num_correct}/{num_pixels} with acc {num_correct/num_pixels*100:.2f}\"\n",
    "    )\n",
    "    print(f\"Dice score: {dice_score/len(loader)}\")\n",
    "    model.train()\n",
    "\n",
    "def save_predictions_as_imgs(\n",
    "    loader, model, epoch, folder=\"saved_images/\", device=\"cuda\"\n",
    "):\n",
    "    model.eval()\n",
    "    for idx, (x, y) in enumerate(loader):\n",
    "        x = x.float().to(device=device)\n",
    "        with torch.no_grad():\n",
    "            preds = torch.sigmoid(model(x))\n",
    "            preds = (preds > 0.5).float()\n",
    "        torchvision.utils.save_image(x.float(), f\"{folder}img_{epoch}_{idx}.png\")\n",
    "        torchvision.utils.save_image(\n",
    "            preds, f\"{folder}pred_{epoch}_{idx}.png\"\n",
    "        )\n",
    "        torchvision.utils.save_image(y.unsqueeze(1).float(), f\"{folder}mask_{epoch}_{idx}.png\")\n",
    "\n",
    "    model.train()"
   ]
  },
  {
   "cell_type": "code",
   "execution_count": 166,
   "metadata": {
    "scrolled": true
   },
   "outputs": [
    {
     "name": "stderr",
     "output_type": "stream",
     "text": [
      "100%|██████████████████████████████████████████████████████████████████████| 26/26 [02:14<00:00,  5.16s/it, loss=0.606]\n"
     ]
    },
    {
     "name": "stdout",
     "output_type": "stream",
     "text": [
      "===>Saving checkpoint\n",
      "Got 354767/405504 with acc 87.49\n",
      "Dice score: 0.2291875034570694\n"
     ]
    },
    {
     "name": "stderr",
     "output_type": "stream",
     "text": [
      "100%|██████████████████████████████████████████████████████████████████████| 26/26 [02:19<00:00,  5.36s/it, loss=0.487]\n"
     ]
    },
    {
     "name": "stdout",
     "output_type": "stream",
     "text": [
      "===>Saving checkpoint\n",
      "Got 355973/405504 with acc 87.79\n",
      "Dice score: 0.33228057622909546\n"
     ]
    },
    {
     "name": "stderr",
     "output_type": "stream",
     "text": [
      "100%|██████████████████████████████████████████████████████████████████████| 26/26 [02:19<00:00,  5.38s/it, loss=0.417]\n"
     ]
    },
    {
     "name": "stdout",
     "output_type": "stream",
     "text": [
      "===>Saving checkpoint\n",
      "Got 380679/405504 with acc 93.88\n",
      "Dice score: 0.3538402020931244\n"
     ]
    },
    {
     "name": "stderr",
     "output_type": "stream",
     "text": [
      "100%|██████████████████████████████████████████████████████████████████████| 26/26 [02:28<00:00,  5.70s/it, loss=0.424]\n"
     ]
    },
    {
     "name": "stdout",
     "output_type": "stream",
     "text": [
      "===>Saving checkpoint\n",
      "Got 364175/405504 with acc 89.81\n",
      "Dice score: 0.4141623079776764\n"
     ]
    },
    {
     "name": "stderr",
     "output_type": "stream",
     "text": [
      "100%|██████████████████████████████████████████████████████████████████████| 26/26 [02:30<00:00,  5.77s/it, loss=0.715]\n"
     ]
    },
    {
     "name": "stdout",
     "output_type": "stream",
     "text": [
      "===>Saving checkpoint\n",
      "Got 384434/405504 with acc 94.80\n",
      "Dice score: 0.4586260914802551\n"
     ]
    },
    {
     "name": "stderr",
     "output_type": "stream",
     "text": [
      "100%|██████████████████████████████████████████████████████████████████████| 26/26 [02:31<00:00,  5.84s/it, loss=0.396]\n"
     ]
    },
    {
     "name": "stdout",
     "output_type": "stream",
     "text": [
      "===>Saving checkpoint\n",
      "Got 387490/405504 with acc 95.56\n",
      "Dice score: 0.5272369980812073\n"
     ]
    },
    {
     "name": "stderr",
     "output_type": "stream",
     "text": [
      "100%|██████████████████████████████████████████████████████████████████████| 26/26 [02:27<00:00,  5.68s/it, loss=0.573]\n"
     ]
    },
    {
     "name": "stdout",
     "output_type": "stream",
     "text": [
      "===>Saving checkpoint\n",
      "Got 388422/405504 with acc 95.79\n",
      "Dice score: 0.504065752029419\n"
     ]
    },
    {
     "name": "stderr",
     "output_type": "stream",
     "text": [
      "100%|██████████████████████████████████████████████████████████████████████| 26/26 [02:19<00:00,  5.36s/it, loss=0.494]\n"
     ]
    },
    {
     "name": "stdout",
     "output_type": "stream",
     "text": [
      "===>Saving checkpoint\n",
      "Got 388267/405504 with acc 95.75\n",
      "Dice score: 0.4941989481449127\n"
     ]
    },
    {
     "name": "stderr",
     "output_type": "stream",
     "text": [
      "100%|██████████████████████████████████████████████████████████████████████| 26/26 [02:19<00:00,  5.36s/it, loss=0.329]\n"
     ]
    },
    {
     "name": "stdout",
     "output_type": "stream",
     "text": [
      "===>Saving checkpoint\n",
      "Got 390073/405504 with acc 96.19\n",
      "Dice score: 0.5633763074874878\n"
     ]
    },
    {
     "name": "stderr",
     "output_type": "stream",
     "text": [
      "100%|██████████████████████████████████████████████████████████████████████| 26/26 [02:30<00:00,  5.81s/it, loss=0.373]\n"
     ]
    },
    {
     "name": "stdout",
     "output_type": "stream",
     "text": [
      "===>Saving checkpoint\n",
      "Got 389211/405504 with acc 95.98\n",
      "Dice score: 0.523614227771759\n"
     ]
    },
    {
     "name": "stderr",
     "output_type": "stream",
     "text": [
      "100%|██████████████████████████████████████████████████████████████████████| 26/26 [02:33<00:00,  5.90s/it, loss=0.382]\n"
     ]
    },
    {
     "name": "stdout",
     "output_type": "stream",
     "text": [
      "===>Saving checkpoint\n",
      "Got 390595/405504 with acc 96.32\n",
      "Dice score: 0.5654832124710083\n"
     ]
    },
    {
     "name": "stderr",
     "output_type": "stream",
     "text": [
      "100%|███████████████████████████████████████████████████████████████████████| 26/26 [02:24<00:00,  5.56s/it, loss=0.34]\n"
     ]
    },
    {
     "name": "stdout",
     "output_type": "stream",
     "text": [
      "===>Saving checkpoint\n",
      "Got 389222/405504 with acc 95.98\n",
      "Dice score: 0.5429099202156067\n"
     ]
    },
    {
     "name": "stderr",
     "output_type": "stream",
     "text": [
      "100%|██████████████████████████████████████████████████████████████████████| 26/26 [02:20<00:00,  5.39s/it, loss=0.284]\n"
     ]
    },
    {
     "name": "stdout",
     "output_type": "stream",
     "text": [
      "===>Saving checkpoint\n",
      "Got 391715/405504 with acc 96.60\n",
      "Dice score: 0.5926217436790466\n"
     ]
    },
    {
     "name": "stderr",
     "output_type": "stream",
     "text": [
      "100%|██████████████████████████████████████████████████████████████████████| 26/26 [02:27<00:00,  5.65s/it, loss=0.283]\n"
     ]
    },
    {
     "name": "stdout",
     "output_type": "stream",
     "text": [
      "===>Saving checkpoint\n",
      "Got 391163/405504 with acc 96.46\n",
      "Dice score: 0.5717266798019409\n"
     ]
    },
    {
     "name": "stderr",
     "output_type": "stream",
     "text": [
      "100%|██████████████████████████████████████████████████████████████████████| 26/26 [02:21<00:00,  5.42s/it, loss=0.243]\n"
     ]
    },
    {
     "name": "stdout",
     "output_type": "stream",
     "text": [
      "===>Saving checkpoint\n",
      "Got 391876/405504 with acc 96.64\n",
      "Dice score: 0.5951409935951233\n"
     ]
    },
    {
     "name": "stderr",
     "output_type": "stream",
     "text": [
      "100%|██████████████████████████████████████████████████████████████████████| 26/26 [02:22<00:00,  5.50s/it, loss=0.281]\n"
     ]
    },
    {
     "name": "stdout",
     "output_type": "stream",
     "text": [
      "===>Saving checkpoint\n",
      "Got 391217/405504 with acc 96.48\n",
      "Dice score: 0.5766009092330933\n"
     ]
    },
    {
     "name": "stderr",
     "output_type": "stream",
     "text": [
      "100%|██████████████████████████████████████████████████████████████████████| 26/26 [02:33<00:00,  5.89s/it, loss=0.271]\n"
     ]
    },
    {
     "name": "stdout",
     "output_type": "stream",
     "text": [
      "===>Saving checkpoint\n",
      "Got 390719/405504 with acc 96.35\n",
      "Dice score: 0.5506109595298767\n"
     ]
    },
    {
     "name": "stderr",
     "output_type": "stream",
     "text": [
      "100%|██████████████████████████████████████████████████████████████████████| 26/26 [02:22<00:00,  5.50s/it, loss=0.367]\n"
     ]
    },
    {
     "name": "stdout",
     "output_type": "stream",
     "text": [
      "===>Saving checkpoint\n",
      "Got 388792/405504 with acc 95.88\n",
      "Dice score: 0.5028867125511169\n"
     ]
    },
    {
     "name": "stderr",
     "output_type": "stream",
     "text": [
      "100%|██████████████████████████████████████████████████████████████████████| 26/26 [02:21<00:00,  5.44s/it, loss=0.242]\n"
     ]
    },
    {
     "name": "stdout",
     "output_type": "stream",
     "text": [
      "===>Saving checkpoint\n",
      "Got 389202/405504 with acc 95.98\n",
      "Dice score: 0.5415995121002197\n"
     ]
    },
    {
     "name": "stderr",
     "output_type": "stream",
     "text": [
      "100%|██████████████████████████████████████████████████████████████████████| 26/26 [02:32<00:00,  5.85s/it, loss=0.365]\n"
     ]
    },
    {
     "name": "stdout",
     "output_type": "stream",
     "text": [
      "===>Saving checkpoint\n",
      "Got 389683/405504 with acc 96.10\n",
      "Dice score: 0.5239031910896301\n"
     ]
    }
   ],
   "source": [
    "if __name__ == '__main__':\n",
    "    model = UNET(in_channels=3, out_channels=1).to(DEVICE)\n",
    "    loss_fn = nn.BCEWithLogitsLoss()\n",
    "    optimizer = optim.Adam(model.parameters(), lr=LEARNING_RATE)\n",
    "\n",
    "    train_loader, val_loader = get_loaders(\n",
    "        TRAIN_IMG_DIR,\n",
    "        TRAIN_MASK_DIR,\n",
    "        VAL_IMG_DIR,\n",
    "        VAL_MASK_DIR,\n",
    "        BATCH_SIZE,\n",
    "        train_transform,\n",
    "        val_transform,\n",
    "        NUM_WORKERS,\n",
    "        PIN_MEMORY\n",
    "    )\n",
    "\n",
    "    scaler = torch.cuda.amp.GradScaler()\n",
    "\n",
    "    for epoch in range(NUM_EPOCHS):\n",
    "        train(train_loader, model, optimizer, loss_fn, scaler)\n",
    "        checkpoint = {\n",
    "            \"state_dict\": model.state_dict(),\n",
    "            \"optimizer\": optimizer.state_dict()\n",
    "        }\n",
    "        save_checkpoint(checkpoint, filename=f\"checkpoint_{epoch}\")\n",
    "        check_accuracy(val_loader, model, device=DEVICE)\n",
    "        save_predictions_as_imgs(val_loader, model, epoch, device=DEVICE)"
   ]
  },
  {
   "cell_type": "markdown",
   "metadata": {},
   "source": [
    "Code for creating test dataset"
   ]
  },
  {
   "cell_type": "code",
   "execution_count": null,
   "metadata": {},
   "outputs": [],
   "source": [
    "test_img_filenames = glob.glob(\"data/images/*\")\n",
    "test_img_filenames.sort()\n",
    "test_images = [cv2.imread(img) for img in test_img_filenames][:5]\n",
    "\n",
    "\n",
    "test_mask_filenames = glob.glob(\"data/manual1/*\")\n",
    "test_mask_filenames.sort()\n",
    "test_masks = [cv2.imread(img, 0) for img in test_mask_filenames][:5]\n",
    "\n",
    "for idx, (img, mask) in enumerate(zip(test_images, test_masks)):\n",
    "    windows = view_as_windows(img, (IMAGE_SIZE, IMAGE_SIZE, 3), step=IMAGE_SIZE)\n",
    "    width, height, _, _, _, _ = windows.shape\n",
    "    windows = windows.flatten().reshape(width*height, IMAGE_SIZE, IMAGE_SIZE, 3)\n",
    "\n",
    "    mask_windows = view_as_windows(mask, (IMAGE_SIZE, IMAGE_SIZE), step=IMAGE_SIZE)\n",
    "    mask_windows = mask_windows.flatten().reshape(width*height, IMAGE_SIZE, IMAGE_SIZE)\n",
    "    \n",
    "    for i, (window, mask_window) in enumerate(zip(windows, mask_windows)):\n",
    "        cv2.imwrite(TEST_IMG_DIR + \"/\" + str(idx) + \"/\" + str(i) + \".png\", window)\n",
    "        cv2.imwrite(TEST_MASK_DIR + \"/\" + str(idx) + \"/\" + str(i) + \".png\", mask_window)"
   ]
  },
  {
   "cell_type": "code",
   "execution_count": 168,
   "metadata": {},
   "outputs": [],
   "source": [
    "torch.save(model.state_dict(), \"model.pt\")"
   ]
  },
  {
   "cell_type": "code",
   "execution_count": 207,
   "metadata": {
    "scrolled": true
   },
   "outputs": [],
   "source": [
    "def test(model, idx):\n",
    "    test_img_filenames = sorted(glob.glob(\"data/test_images/\" + str(idx) + \"/*.png\"), key=os.path.getmtime)\n",
    "    test_images = [cv2.imread(img) for img in test_img_filenames]\n",
    "    test_images = np.array(test_images).reshape(1944, 64, 64, 3)\n",
    "    \n",
    "    model.eval()\n",
    "    \n",
    "    all_preds = []\n",
    "    for img in tqdm(test_images):\n",
    "        img_tensor = torch.from_numpy(np.array([img]))\n",
    "        x = img_tensor.permute(0, 3, 1, 2).float().to(DEVICE)\n",
    "        with torch.no_grad():\n",
    "            preds = torch.sigmoid(model(x))\n",
    "            preds = (preds > 0.5).float()\n",
    "        all_preds.append(preds[0][0].cpu().detach().numpy())\n",
    "        \n",
    "    return all_preds"
   ]
  },
  {
   "cell_type": "code",
   "execution_count": 251,
   "metadata": {},
   "outputs": [
    {
     "name": "stdout",
     "output_type": "stream",
     "text": [
      "              precision    recall  f1-score   support\n",
      "\n",
      "         0.0       0.97      0.99      0.98   7556419\n",
      "         1.0       0.74      0.49      0.59    409661\n",
      "\n",
      "    accuracy                           0.97   7966080\n",
      "   macro avg       0.86      0.74      0.79   7966080\n",
      "weighted avg       0.96      0.97      0.96   7966080\n",
      "\n"
     ]
    }
   ],
   "source": [
    "#predictions = test(model, 0)\n",
    "    \n",
    "predictions = np.array(predictions).reshape(36, 54, 64, 64)\n",
    "image = np.zeros((1, 3456))\n",
    "for i, row in enumerate(predictions):\n",
    "    window = np.zeros((64, 3456))\n",
    "    for j, img in enumerate(row):\n",
    "        for k, img_row in enumerate(img):\n",
    "            window[k][j*64: j*64 + 64] = img_row\n",
    "    image = np.append(image, window, 0)\n",
    "\n",
    "(_, threshed_predict) = cv2.threshold(image, 0, 1, cv2.THRESH_BINARY)\n",
    "\n",
    "test_img_filenames = sorted(glob.glob(\"data/test_masks/0/*.png\"), key=os.path.getmtime)\n",
    "test_images = [cv2.imread(img, 0) for img in test_img_filenames]\n",
    "test_images = np.array(test_images).reshape(36, 54, 64, 64)\n",
    "\n",
    "image_true = np.zeros((1, 3456))\n",
    "for i, row in enumerate(test_images):\n",
    "    window = np.zeros((64, 3456))\n",
    "    for j, img in enumerate(row):\n",
    "        for k, img_row in enumerate(img):\n",
    "            window[k][j*64: j*64 + 64] = img_row\n",
    "    image_true = np.append(image_true, window, 0)\n",
    "\n",
    "image_true = image_true[:2305]/255\n",
    "(_, threshed_predict_true) = cv2.threshold(image_true, 0, 1, cv2.THRESH_BINARY)\n",
    "\n",
    "print(classification_report(image_true.flatten(), image.flatten()))"
   ]
  },
  {
   "cell_type": "code",
   "execution_count": 252,
   "metadata": {},
   "outputs": [
    {
     "data": {
      "image/png": "[encoded data removed]",
      "text/plain": [
       "<Figure size 432x288 with 1 Axes>"
      ]
     },
     "metadata": {
      "needs_background": "light"
     },
     "output_type": "display_data"
    }
   ],
   "source": [
    "plt.imshow(threshed_predict)\n",
    "plt.savefig(\"nn1_predicted.png\", dpi=200)"
   ]
  },
  {
   "cell_type": "code",
   "execution_count": 253,
   "metadata": {},
   "outputs": [
    {
     "data": {
      "image/png": "[encoded data removed]",
      "text/plain": [
       "<Figure size 432x288 with 1 Axes>"
      ]
     },
     "metadata": {
      "needs_background": "light"
     },
     "output_type": "display_data"
    }
   ],
   "source": [
    "plt.imshow(threshed_predict_true)\n",
    "plt.savefig(\"nn1_mask.png\", dpi=200)"
   ]
  },
  {
   "cell_type": "code",
   "execution_count": 254,
   "metadata": {},
   "outputs": [
    {
     "name": "stderr",
     "output_type": "stream",
     "text": [
      "100%|██████████████████████████████████████████████████████████████████████████████| 1944/1944 [05:37<00:00,  5.77it/s]\n"
     ]
    },
    {
     "name": "stdout",
     "output_type": "stream",
     "text": [
      "              precision    recall  f1-score   support\n",
      "\n",
      "         0.0       0.96      0.99      0.98   7421375\n",
      "         1.0       0.82      0.49      0.62    544705\n",
      "\n",
      "    accuracy                           0.96   7966080\n",
      "   macro avg       0.89      0.74      0.80   7966080\n",
      "weighted avg       0.95      0.96      0.95   7966080\n",
      "\n"
     ]
    }
   ],
   "source": [
    "predictions2 = test(model, 1)\n",
    "    \n",
    "predictions2 = np.array(predictions2).reshape(36, 54, 64, 64)\n",
    "image = np.zeros((1, 3456))\n",
    "for i, row in enumerate(predictions2):\n",
    "    window = np.zeros((64, 3456))\n",
    "    for j, img in enumerate(row):\n",
    "        for k, img_row in enumerate(img):\n",
    "            window[k][j*64: j*64 + 64] = img_row\n",
    "    image = np.append(image, window, 0)\n",
    "\n",
    "(_, threshed_predict) = cv2.threshold(image, 0, 1, cv2.THRESH_BINARY)\n",
    "\n",
    "test_img_filenames = sorted(glob.glob(\"data/test_masks/1/*.png\"), key=os.path.getmtime)\n",
    "test_images = [cv2.imread(img, 0) for img in test_img_filenames]\n",
    "test_images = np.array(test_images).reshape(36, 54, 64, 64)\n",
    "\n",
    "image_true = np.zeros((1, 3456))\n",
    "for i, row in enumerate(test_images):\n",
    "    window = np.zeros((64, 3456))\n",
    "    for j, img in enumerate(row):\n",
    "        for k, img_row in enumerate(img):\n",
    "            window[k][j*64: j*64 + 64] = img_row\n",
    "    image_true = np.append(image_true, window, 0)\n",
    "\n",
    "image_true = image_true[:2305]/255\n",
    "(_, threshed_predict_true) = cv2.threshold(image_true, 0, 1, cv2.THRESH_BINARY)\n",
    "\n",
    "print(classification_report(image_true.flatten(), image.flatten()))"
   ]
  },
  {
   "cell_type": "code",
   "execution_count": 255,
   "metadata": {},
   "outputs": [
    {
     "data": {
      "image/png": "[encoded data removed]",
      "text/plain": [
       "<Figure size 432x288 with 1 Axes>"
      ]
     },
     "metadata": {
      "needs_background": "light"
     },
     "output_type": "display_data"
    }
   ],
   "source": [
    "plt.imshow(threshed_predict)\n",
    "plt.savefig(\"nn2_predicted.png\", dpi=200)"
   ]
  },
  {
   "cell_type": "code",
   "execution_count": 256,
   "metadata": {},
   "outputs": [
    {
     "data": {
      "image/png": "[encoded data removed]",
      "text/plain": [
       "<Figure size 432x288 with 1 Axes>"
      ]
     },
     "metadata": {
      "needs_background": "light"
     },
     "output_type": "display_data"
    }
   ],
   "source": [
    "plt.imshow(threshed_predict_true)\n",
    "plt.savefig(\"nn2_mask.png\", dpi=200)"
   ]
  },
  {
   "cell_type": "code",
   "execution_count": 257,
   "metadata": {},
   "outputs": [
    {
     "name": "stderr",
     "output_type": "stream",
     "text": [
      "100%|██████████████████████████████████████████████████████████████████████████████| 1944/1944 [05:46<00:00,  5.61it/s]\n"
     ]
    },
    {
     "name": "stdout",
     "output_type": "stream",
     "text": [
      "              precision    recall  f1-score   support\n",
      "\n",
      "         0.0       0.95      1.00      0.97   7141638\n",
      "         1.0       0.94      0.54      0.69    824442\n",
      "\n",
      "    accuracy                           0.95   7966080\n",
      "   macro avg       0.94      0.77      0.83   7966080\n",
      "weighted avg       0.95      0.95      0.94   7966080\n",
      "\n"
     ]
    }
   ],
   "source": [
    "predictions3 = test(model, 2)\n",
    "    \n",
    "predictions3 = np.array(predictions3).reshape(36, 54, 64, 64)\n",
    "image = np.zeros((1, 3456))\n",
    "for i, row in enumerate(predictions3):\n",
    "    window = np.zeros((64, 3456))\n",
    "    for j, img in enumerate(row):\n",
    "        for k, img_row in enumerate(img):\n",
    "            window[k][j*64: j*64 + 64] = img_row\n",
    "    image = np.append(image, window, 0)\n",
    "\n",
    "(_, threshed_predict) = cv2.threshold(image, 0, 1, cv2.THRESH_BINARY)\n",
    "\n",
    "test_img_filenames = sorted(glob.glob(\"data/test_masks/2/*.png\"), key=os.path.getmtime)\n",
    "test_images = [cv2.imread(img, 0) for img in test_img_filenames]\n",
    "test_images = np.array(test_images).reshape(36, 54, 64, 64)\n",
    "\n",
    "image_true = np.zeros((1, 3456))\n",
    "for i, row in enumerate(test_images):\n",
    "    window = np.zeros((64, 3456))\n",
    "    for j, img in enumerate(row):\n",
    "        for k, img_row in enumerate(img):\n",
    "            window[k][j*64: j*64 + 64] = img_row\n",
    "    image_true = np.append(image_true, window, 0)\n",
    "\n",
    "image_true = image_true[:2305]/255\n",
    "(_, threshed_predict_true) = cv2.threshold(image_true, 0, 1, cv2.THRESH_BINARY)\n",
    "\n",
    "print(classification_report(image_true.flatten(), image.flatten()))"
   ]
  },
  {
   "cell_type": "code",
   "execution_count": 258,
   "metadata": {},
   "outputs": [
    {
     "data": {
      "image/png": "[encoded data removed]",
      "text/plain": [
       "<Figure size 432x288 with 1 Axes>"
      ]
     },
     "metadata": {
      "needs_background": "light"
     },
     "output_type": "display_data"
    }
   ],
   "source": [
    "plt.imshow(threshed_predict)\n",
    "plt.savefig(\"nn3_predicted.png\", dpi=200)"
   ]
  },
  {
   "cell_type": "code",
   "execution_count": 259,
   "metadata": {},
   "outputs": [
    {
     "data": {
      "image/png": "[encoded data removed]",
      "text/plain": [
       "<Figure size 432x288 with 1 Axes>"
      ]
     },
     "metadata": {
      "needs_background": "light"
     },
     "output_type": "display_data"
    }
   ],
   "source": [
    "plt.imshow(threshed_predict_true)\n",
    "plt.savefig(\"nn3_mask.png\", dpi=200)"
   ]
  },
  {
   "cell_type": "code",
   "execution_count": 260,
   "metadata": {},
   "outputs": [
    {
     "name": "stderr",
     "output_type": "stream",
     "text": [
      "100%|██████████████████████████████████████████████████████████████████████████████| 1944/1944 [05:32<00:00,  5.84it/s]\n"
     ]
    },
    {
     "name": "stdout",
     "output_type": "stream",
     "text": [
      "              precision    recall  f1-score   support\n",
      "\n",
      "         0.0       0.97      0.99      0.98   7451062\n",
      "         1.0       0.76      0.51      0.61    515018\n",
      "\n",
      "    accuracy                           0.96   7966080\n",
      "   macro avg       0.86      0.75      0.79   7966080\n",
      "weighted avg       0.95      0.96      0.95   7966080\n",
      "\n"
     ]
    }
   ],
   "source": [
    "predictions4 = test(model, 3)\n",
    "    \n",
    "predictions4 = np.array(predictions4).reshape(36, 54, 64, 64)\n",
    "image = np.zeros((1, 3456))\n",
    "for i, row in enumerate(predictions4):\n",
    "    window = np.zeros((64, 3456))\n",
    "    for j, img in enumerate(row):\n",
    "        for k, img_row in enumerate(img):\n",
    "            window[k][j*64: j*64 + 64] = img_row\n",
    "    image = np.append(image, window, 0)\n",
    "\n",
    "(_, threshed_predict) = cv2.threshold(image, 0, 1, cv2.THRESH_BINARY)\n",
    "\n",
    "test_img_filenames = sorted(glob.glob(\"data/test_masks/3/*.png\"), key=os.path.getmtime)\n",
    "test_images = [cv2.imread(img, 0) for img in test_img_filenames]\n",
    "test_images = np.array(test_images).reshape(36, 54, 64, 64)\n",
    "\n",
    "image_true = np.zeros((1, 3456))\n",
    "for i, row in enumerate(test_images):\n",
    "    window = np.zeros((64, 3456))\n",
    "    for j, img in enumerate(row):\n",
    "        for k, img_row in enumerate(img):\n",
    "            window[k][j*64: j*64 + 64] = img_row\n",
    "    image_true = np.append(image_true, window, 0)\n",
    "\n",
    "image_true = image_true[:2305]/255\n",
    "(_, threshed_predict_true) = cv2.threshold(image_true, 0, 1, cv2.THRESH_BINARY)\n",
    "\n",
    "print(classification_report(image_true.flatten(), image.flatten()))"
   ]
  },
  {
   "cell_type": "code",
   "execution_count": 261,
   "metadata": {},
   "outputs": [
    {
     "data": {
      "image/png": "[encoded data removed]",
      "text/plain": [
       "<Figure size 432x288 with 1 Axes>"
      ]
     },
     "metadata": {
      "needs_background": "light"
     },
     "output_type": "display_data"
    }
   ],
   "source": [
    "plt.imshow(threshed_predict)\n",
    "plt.savefig(\"nn4_predicted.png\", dpi=200)"
   ]
  },
  {
   "cell_type": "code",
   "execution_count": 262,
   "metadata": {},
   "outputs": [
    {
     "data": {
      "image/png": "[encoded data removed]",
      "text/plain": [
       "<Figure size 432x288 with 1 Axes>"
      ]
     },
     "metadata": {
      "needs_background": "light"
     },
     "output_type": "display_data"
    }
   ],
   "source": [
    "plt.imshow(threshed_predict_true)\n",
    "plt.savefig(\"nn4_mask.png\", dpi=200)"
   ]
  },
  {
   "cell_type": "code",
   "execution_count": 263,
   "metadata": {},
   "outputs": [
    {
     "name": "stderr",
     "output_type": "stream",
     "text": [
      "100%|██████████████████████████████████████████████████████████████████████████████| 1944/1944 [05:33<00:00,  5.83it/s]\n"
     ]
    },
    {
     "name": "stdout",
     "output_type": "stream",
     "text": [
      "              precision    recall  f1-score   support\n",
      "\n",
      "         0.0       0.96      0.99      0.98   7361830\n",
      "         1.0       0.86      0.54      0.66    604250\n",
      "\n",
      "    accuracy                           0.96   7966080\n",
      "   macro avg       0.91      0.77      0.82   7966080\n",
      "weighted avg       0.96      0.96      0.95   7966080\n",
      "\n"
     ]
    }
   ],
   "source": [
    "predictions5 = test(model, 4)\n",
    "    \n",
    "predictions5 = np.array(predictions5).reshape(36, 54, 64, 64)\n",
    "image = np.zeros((1, 3456))\n",
    "for i, row in enumerate(predictions5):\n",
    "    window = np.zeros((64, 3456))\n",
    "    for j, img in enumerate(row):\n",
    "        for k, img_row in enumerate(img):\n",
    "            window[k][j*64: j*64 + 64] = img_row\n",
    "    image = np.append(image, window, 0)\n",
    "\n",
    "(_, threshed_predict) = cv2.threshold(image, 0, 1, cv2.THRESH_BINARY)\n",
    "\n",
    "test_img_filenames = sorted(glob.glob(\"data/test_masks/4/*.png\"), key=os.path.getmtime)\n",
    "test_images = [cv2.imread(img, 0) for img in test_img_filenames]\n",
    "test_images = np.array(test_images).reshape(36, 54, 64, 64)\n",
    "\n",
    "image_true = np.zeros((1, 3456))\n",
    "for i, row in enumerate(test_images):\n",
    "    window = np.zeros((64, 3456))\n",
    "    for j, img in enumerate(row):\n",
    "        for k, img_row in enumerate(img):\n",
    "            window[k][j*64: j*64 + 64] = img_row\n",
    "    image_true = np.append(image_true, window, 0)\n",
    "\n",
    "image_true = image_true[:2305]/255\n",
    "(_, threshed_predict_true) = cv2.threshold(image_true, 0, 1, cv2.THRESH_BINARY)\n",
    "\n",
    "print(classification_report(image_true.flatten(), image.flatten()))"
   ]
  },
  {
   "cell_type": "code",
   "execution_count": 264,
   "metadata": {},
   "outputs": [
    {
     "data": {
      "image/png": "[encoded data removed]",
      "text/plain": [
       "<Figure size 432x288 with 1 Axes>"
      ]
     },
     "metadata": {
      "needs_background": "light"
     },
     "output_type": "display_data"
    }
   ],
   "source": [
    "plt.imshow(threshed_predict)\n",
    "plt.savefig(\"nn5_predicted.png\", dpi=200)"
   ]
  },
  {
   "cell_type": "code",
   "execution_count": 265,
   "metadata": {},
   "outputs": [
    {
     "data": {
      "image/png": "[encoded data removed]",
      "text/plain": [
       "<Figure size 432x288 with 1 Axes>"
      ]
     },
     "metadata": {
      "needs_background": "light"
     },
     "output_type": "display_data"
    }
   ],
   "source": [
    "plt.imshow(threshed_predict_true)\n",
    "plt.savefig(\"nn5_mask.png\", dpi=200)"
   ]
  },
  {
   "cell_type": "markdown",
   "metadata": {},
   "source": [
    "## Bibliography:\n",
    "https://www.youtube.com/watch?v=IHq1t7NxS8k&ab_channel=AladdinPersson"
   ]
  },
  {
   "cell_type": "code",
   "execution_count": null,
   "metadata": {},
   "outputs": [],
   "source": []
  }
 ],
 "metadata": {
  "colab": {
   "collapsed_sections": [],
   "name": "blood-vessels.ipynb",
   "provenance": []
  },
  "kernelspec": {
   "display_name": "Python 3",
   "language": "python",
   "name": "python3"
  },
  "language_info": {
   "codemirror_mode": {
    "name": "ipython",
    "version": 3
   },
   "file_extension": ".py",
   "mimetype": "text/x-python",
   "name": "python",
   "nbconvert_exporter": "python",
   "pygments_lexer": "ipython3",
   "version": "3.7.1"
  }
 },
 "nbformat": 4,
 "nbformat_minor": 1
}
